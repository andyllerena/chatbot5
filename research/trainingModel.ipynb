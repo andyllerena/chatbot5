{
 "cells": [
  {
   "cell_type": "code",
   "execution_count": 1,
   "id": "c0f98435-6645-42fa-88b8-e7299f8c7fdf",
   "metadata": {},
   "outputs": [],
   "source": [
    "import pandas as pd"
   ]
  },
  {
   "cell_type": "code",
   "execution_count": 2,
   "id": "40550991-3a43-4632-bc72-76b4f5cd6741",
   "metadata": {},
   "outputs": [],
   "source": [
    "df=pd.read_csv('../datasets/final_dataset.csv') # read the csv file"
   ]
  },
  {
   "cell_type": "code",
   "execution_count": 3,
   "id": "4d47f41f-64c8-4a0d-bed8-1e353d734081",
   "metadata": {},
   "outputs": [],
   "source": [
    "version = \"cnn_v2\""
   ]
  },
  {
   "cell_type": "code",
   "execution_count": 4,
   "id": "2069c017-cdfd-4c24-81a4-67f0179c77b2",
   "metadata": {},
   "outputs": [
    {
     "data": {
      "text/html": [
       "<div>\n",
       "<style scoped>\n",
       "    .dataframe tbody tr th:only-of-type {\n",
       "        vertical-align: middle;\n",
       "    }\n",
       "\n",
       "    .dataframe tbody tr th {\n",
       "        vertical-align: top;\n",
       "    }\n",
       "\n",
       "    .dataframe thead th {\n",
       "        text-align: right;\n",
       "    }\n",
       "</style>\n",
       "<table border=\"1\" class=\"dataframe\">\n",
       "  <thead>\n",
       "    <tr style=\"text-align: right;\">\n",
       "      <th></th>\n",
       "      <th>Disease</th>\n",
       "      <th>Symptoms</th>\n",
       "    </tr>\n",
       "  </thead>\n",
       "  <tbody>\n",
       "    <tr>\n",
       "      <th>0</th>\n",
       "      <td>Yeast Infection</td>\n",
       "      <td>I'm experiencing itching and burning sensation...</td>\n",
       "    </tr>\n",
       "    <tr>\n",
       "      <th>1</th>\n",
       "      <td>Yeast Infection</td>\n",
       "      <td>I'm feeling intense itching and irritation aro...</td>\n",
       "    </tr>\n",
       "    <tr>\n",
       "      <th>2</th>\n",
       "      <td>Yeast Infection</td>\n",
       "      <td>I have a yeast infection, and I'm experiencing...</td>\n",
       "    </tr>\n",
       "    <tr>\n",
       "      <th>3</th>\n",
       "      <td>Yeast Infection</td>\n",
       "      <td>I've noticed itching and burning in my vaginal...</td>\n",
       "    </tr>\n",
       "    <tr>\n",
       "      <th>4</th>\n",
       "      <td>Yeast Infection</td>\n",
       "      <td>I'm experiencing itching and discomfort in my ...</td>\n",
       "    </tr>\n",
       "  </tbody>\n",
       "</table>\n",
       "</div>"
      ],
      "text/plain": [
       "           Disease                                           Symptoms\n",
       "0  Yeast Infection  I'm experiencing itching and burning sensation...\n",
       "1  Yeast Infection  I'm feeling intense itching and irritation aro...\n",
       "2  Yeast Infection  I have a yeast infection, and I'm experiencing...\n",
       "3  Yeast Infection  I've noticed itching and burning in my vaginal...\n",
       "4  Yeast Infection  I'm experiencing itching and discomfort in my ..."
      ]
     },
     "execution_count": 4,
     "metadata": {},
     "output_type": "execute_result"
    }
   ],
   "source": [
    "df.head()"
   ]
  },
  {
   "cell_type": "code",
   "execution_count": 5,
   "id": "ac41bc07-dd73-4efa-9e10-6206ab45c0ed",
   "metadata": {},
   "outputs": [],
   "source": [
    "###Drop Nan Values\n",
    "df=df.dropna()"
   ]
  },
  {
   "cell_type": "code",
   "execution_count": 6,
   "id": "07845505-46a1-40be-962a-7f0d69c59075",
   "metadata": {},
   "outputs": [
    {
     "data": {
      "text/plain": [
       "Index(['Disease', 'Symptoms'], dtype='object')"
      ]
     },
     "execution_count": 6,
     "metadata": {},
     "output_type": "execute_result"
    }
   ],
   "source": [
    "df.columns"
   ]
  },
  {
   "cell_type": "code",
   "execution_count": 7,
   "id": "28e68b27-249c-452f-9561-8b2fa77cc7f0",
   "metadata": {},
   "outputs": [],
   "source": [
    "import tensorflow as tf"
   ]
  },
  {
   "cell_type": "code",
   "execution_count": 8,
   "id": "ffaec527-b5c9-4e02-920e-da5a2431b617",
   "metadata": {},
   "outputs": [
    {
     "data": {
      "text/plain": [
       "'2.16.1'"
      ]
     },
     "execution_count": 8,
     "metadata": {},
     "output_type": "execute_result"
    }
   ],
   "source": [
    "tf.__version__"
   ]
  },
  {
   "cell_type": "code",
   "execution_count": 9,
   "id": "b4cf087f-0566-42e4-a67a-7c17b85e9de2",
   "metadata": {},
   "outputs": [],
   "source": [
    "from tensorflow.keras.layers import Embedding\n",
    "from tensorflow.keras.preprocessing.sequence import pad_sequences\n",
    "from tensorflow.keras.models import Sequential\n",
    "from tensorflow.keras.preprocessing.text import one_hot\n",
    "from tensorflow.keras.layers import LSTM\n",
    "from tensorflow.keras.layers import Dense\n",
    "from tensorflow.keras.layers import Bidirectional\n",
    "from tensorflow.keras.layers import Dropout\n",
    "from keras.layers import Conv1D, MaxPooling1D"
   ]
  },
  {
   "cell_type": "code",
   "execution_count": 10,
   "id": "3c37cb4f-967c-4cf8-8c56-b82fa0241321",
   "metadata": {},
   "outputs": [],
   "source": [
    "### Vocabulary size\n",
    "voc_size=50000"
   ]
  },
  {
   "cell_type": "code",
   "execution_count": 11,
   "id": "6b1d3c0f-a99e-4834-a041-0ed61b0399c7",
   "metadata": {},
   "outputs": [
    {
     "data": {
      "text/plain": [
       "Index(['Disease', 'Symptoms'], dtype='object')"
      ]
     },
     "execution_count": 11,
     "metadata": {},
     "output_type": "execute_result"
    }
   ],
   "source": [
    "df.columns"
   ]
  },
  {
   "cell_type": "code",
   "execution_count": 12,
   "id": "bbd7e311-d332-483e-a201-316a9fac181a",
   "metadata": {},
   "outputs": [],
   "source": [
    "df.reset_index(inplace=True)"
   ]
  },
  {
   "cell_type": "code",
   "execution_count": 13,
   "id": "83c737a7-3d56-4211-9694-b9066331df99",
   "metadata": {},
   "outputs": [
    {
     "name": "stderr",
     "output_type": "stream",
     "text": [
      "[nltk_data] Downloading package stopwords to\n",
      "[nltk_data]     C:\\Users\\aller\\AppData\\Roaming\\nltk_data...\n",
      "[nltk_data]   Package stopwords is already up-to-date!\n",
      "[nltk_data] Downloading package wordnet to\n",
      "[nltk_data]     C:\\Users\\aller\\AppData\\Roaming\\nltk_data...\n",
      "[nltk_data]   Package wordnet is already up-to-date!\n",
      "[nltk_data] Downloading package averaged_perceptron_tagger to\n",
      "[nltk_data]     C:\\Users\\aller\\AppData\\Roaming\\nltk_data...\n",
      "[nltk_data]   Package averaged_perceptron_tagger is already up-to-\n",
      "[nltk_data]       date!\n"
     ]
    }
   ],
   "source": [
    "### Dataset Preprocessing\n",
    "from word_process import WordProcess\n",
    "\n",
    "wp = WordProcess()\n",
    "\n",
    "corpus = []\n",
    "\n",
    "for i in range(0, len(df)):\n",
    "    review = wp.process_sent2sent(df['Symptoms'][i])\n",
    "    corpus.append(review)"
   ]
  },
  {
   "cell_type": "code",
   "execution_count": 14,
   "id": "c9ec0c80-62c4-4b42-aed2-2071aecaeb5f",
   "metadata": {},
   "outputs": [
    {
     "data": {
      "text/plain": [
       "['experience itch burn sensation vaginal area along unusual discharge thick white cottage cheese like consistency',\n",
       " 'feel intense itch irritation around genital area noticeable white clumpy discharge',\n",
       " 'yeast infection experience severe itch redness vaginal area discharge thick white',\n",
       " 'notice itch burn vaginal area along thick white discharge strong odor',\n",
       " 'experience itch discomfort vaginal area along thick white discharge itch bad intercourse use scent product']"
      ]
     },
     "execution_count": 14,
     "metadata": {},
     "output_type": "execute_result"
    }
   ],
   "source": [
    "corpus[:5]"
   ]
  },
  {
   "cell_type": "code",
   "execution_count": 15,
   "id": "b1fd3ed4-ea2b-492a-8f57-c7a5153740ed",
   "metadata": {},
   "outputs": [],
   "source": [
    "from tensorflow.keras.preprocessing.text import Tokenizer\n",
    "\n",
    "\n",
    "# Initialize Tokenizer\n",
    "tokenizer = Tokenizer(lower=True, split=' ', oov_token='<OOV>')\n",
    "tokenizer.fit_on_texts(corpus)\n",
    "\n",
    "# Convert texts to sequences of integers\n",
    "onehot_repr = tokenizer.texts_to_sequences(corpus)"
   ]
  },
  {
   "cell_type": "code",
   "execution_count": 16,
   "id": "46daa4d4-5597-4d52-825e-d3e79f059e57",
   "metadata": {},
   "outputs": [],
   "source": [
    "import pickle\n",
    "with open(f'../models/tokenizer_{version}.pkl', 'wb') as f:  # Open the file in write-binary mode\n",
    "    pickle.dump(tokenizer, f)    "
   ]
  },
  {
   "cell_type": "code",
   "execution_count": 17,
   "id": "93fc6c94-5ade-48f9-b751-dcf9036d2f71",
   "metadata": {},
   "outputs": [
    {
     "name": "stdout",
     "output_type": "stream",
     "text": [
      "[[  0   0   0 ... 438  37 974]\n",
      " [  0   0   0 ...  99 975  98]\n",
      " [  0   0   0 ...  98  59  99]\n",
      " ...\n",
      " [  0   0   0 ... 797  32 140]\n",
      " [  0   0   0 ...  78 184  78]\n",
      " [  0   0   0 ... 230  10 384]]\n"
     ]
    }
   ],
   "source": [
    "# making all the sentences of the same length\n",
    "sent_length=20\n",
    "embedded_docs=pad_sequences(onehot_repr,padding='pre',maxlen=sent_length)\n",
    "\n",
    "print(embedded_docs)"
   ]
  },
  {
   "cell_type": "code",
   "execution_count": 18,
   "id": "7cc64cba-472d-40d4-879a-11ff17cae757",
   "metadata": {},
   "outputs": [
    {
     "data": {
      "text/plain": [
       "array([  0,   0,   0,   0,   0,   6,  18, 170, 137, 138,  52,  22, 507,\n",
       "        98,  59,  99, 437, 438,  37, 974])"
      ]
     },
     "execution_count": 18,
     "metadata": {},
     "output_type": "execute_result"
    }
   ],
   "source": [
    "embedded_docs[0]"
   ]
  },
  {
   "cell_type": "code",
   "execution_count": 19,
   "id": "5aa3cc20-b600-4f15-b6f1-bc2bdf3e2218",
   "metadata": {},
   "outputs": [
    {
     "data": {
      "text/plain": [
       "30"
      ]
     },
     "execution_count": 19,
     "metadata": {},
     "output_type": "execute_result"
    }
   ],
   "source": [
    "df['Disease'].nunique()     "
   ]
  },
  {
   "cell_type": "code",
   "execution_count": 20,
   "id": "06641411-921f-4383-aca8-fc52756fecf5",
   "metadata": {},
   "outputs": [],
   "source": [
    "embedding_vector_features=40"
   ]
  },
  {
   "cell_type": "code",
   "execution_count": 21,
   "id": "ece007e0-4827-44b7-a9c2-5f7f40b9be50",
   "metadata": {},
   "outputs": [
    {
     "name": "stderr",
     "output_type": "stream",
     "text": [
      "C:\\Users\\aller\\AppData\\Local\\Programs\\Python\\Python312\\Lib\\site-packages\\keras\\src\\layers\\core\\embedding.py:93: UserWarning: Do not pass an `input_shape`/`input_dim` argument to a layer. When using Sequential models, prefer using an `Input(shape)` object as the first layer in the model instead.\n",
      "  super().__init__(**kwargs)\n"
     ]
    },
    {
     "data": {
      "text/html": [
       "<pre style=\"white-space:pre;overflow-x:auto;line-height:normal;font-family:Menlo,'DejaVu Sans Mono',consolas,'Courier New',monospace\"><span style=\"font-weight: bold\">Model: \"sequential\"</span>\n",
       "</pre>\n"
      ],
      "text/plain": [
       "\u001b[1mModel: \"sequential\"\u001b[0m\n"
      ]
     },
     "metadata": {},
     "output_type": "display_data"
    },
    {
     "data": {
      "text/html": [
       "<pre style=\"white-space:pre;overflow-x:auto;line-height:normal;font-family:Menlo,'DejaVu Sans Mono',consolas,'Courier New',monospace\">┏━━━━━━━━━━━━━━━━━━━━━━━━━━━━━━━━━━━━━━┳━━━━━━━━━━━━━━━━━━━━━━━━━━━━━┳━━━━━━━━━━━━━━━━━┓\n",
       "┃<span style=\"font-weight: bold\"> Layer (type)                         </span>┃<span style=\"font-weight: bold\"> Output Shape                </span>┃<span style=\"font-weight: bold\">         Param # </span>┃\n",
       "┡━━━━━━━━━━━━━━━━━━━━━━━━━━━━━━━━━━━━━━╇━━━━━━━━━━━━━━━━━━━━━━━━━━━━━╇━━━━━━━━━━━━━━━━━┩\n",
       "│ embedding (<span style=\"color: #0087ff; text-decoration-color: #0087ff\">Embedding</span>)                │ (<span style=\"color: #00d7ff; text-decoration-color: #00d7ff\">None</span>, <span style=\"color: #00af00; text-decoration-color: #00af00\">20</span>, <span style=\"color: #00af00; text-decoration-color: #00af00\">40</span>)              │       <span style=\"color: #00af00; text-decoration-color: #00af00\">2,000,000</span> │\n",
       "├──────────────────────────────────────┼─────────────────────────────┼─────────────────┤\n",
       "│ conv1d (<span style=\"color: #0087ff; text-decoration-color: #0087ff\">Conv1D</span>)                      │ (<span style=\"color: #00d7ff; text-decoration-color: #00d7ff\">None</span>, <span style=\"color: #00af00; text-decoration-color: #00af00\">18</span>, <span style=\"color: #00af00; text-decoration-color: #00af00\">64</span>)              │           <span style=\"color: #00af00; text-decoration-color: #00af00\">7,744</span> │\n",
       "├──────────────────────────────────────┼─────────────────────────────┼─────────────────┤\n",
       "│ max_pooling1d (<span style=\"color: #0087ff; text-decoration-color: #0087ff\">MaxPooling1D</span>)         │ (<span style=\"color: #00d7ff; text-decoration-color: #00d7ff\">None</span>, <span style=\"color: #00af00; text-decoration-color: #00af00\">9</span>, <span style=\"color: #00af00; text-decoration-color: #00af00\">64</span>)               │               <span style=\"color: #00af00; text-decoration-color: #00af00\">0</span> │\n",
       "├──────────────────────────────────────┼─────────────────────────────┼─────────────────┤\n",
       "│ lstm (<span style=\"color: #0087ff; text-decoration-color: #0087ff\">LSTM</span>)                          │ (<span style=\"color: #00d7ff; text-decoration-color: #00d7ff\">None</span>, <span style=\"color: #00af00; text-decoration-color: #00af00\">100</span>)                 │          <span style=\"color: #00af00; text-decoration-color: #00af00\">66,000</span> │\n",
       "├──────────────────────────────────────┼─────────────────────────────┼─────────────────┤\n",
       "│ dropout (<span style=\"color: #0087ff; text-decoration-color: #0087ff\">Dropout</span>)                    │ (<span style=\"color: #00d7ff; text-decoration-color: #00d7ff\">None</span>, <span style=\"color: #00af00; text-decoration-color: #00af00\">100</span>)                 │               <span style=\"color: #00af00; text-decoration-color: #00af00\">0</span> │\n",
       "├──────────────────────────────────────┼─────────────────────────────┼─────────────────┤\n",
       "│ dense (<span style=\"color: #0087ff; text-decoration-color: #0087ff\">Dense</span>)                        │ (<span style=\"color: #00d7ff; text-decoration-color: #00d7ff\">None</span>, <span style=\"color: #00af00; text-decoration-color: #00af00\">30</span>)                  │           <span style=\"color: #00af00; text-decoration-color: #00af00\">3,030</span> │\n",
       "└──────────────────────────────────────┴─────────────────────────────┴─────────────────┘\n",
       "</pre>\n"
      ],
      "text/plain": [
       "┏━━━━━━━━━━━━━━━━━━━━━━━━━━━━━━━━━━━━━━┳━━━━━━━━━━━━━━━━━━━━━━━━━━━━━┳━━━━━━━━━━━━━━━━━┓\n",
       "┃\u001b[1m \u001b[0m\u001b[1mLayer (type)                        \u001b[0m\u001b[1m \u001b[0m┃\u001b[1m \u001b[0m\u001b[1mOutput Shape               \u001b[0m\u001b[1m \u001b[0m┃\u001b[1m \u001b[0m\u001b[1m        Param #\u001b[0m\u001b[1m \u001b[0m┃\n",
       "┡━━━━━━━━━━━━━━━━━━━━━━━━━━━━━━━━━━━━━━╇━━━━━━━━━━━━━━━━━━━━━━━━━━━━━╇━━━━━━━━━━━━━━━━━┩\n",
       "│ embedding (\u001b[38;5;33mEmbedding\u001b[0m)                │ (\u001b[38;5;45mNone\u001b[0m, \u001b[38;5;34m20\u001b[0m, \u001b[38;5;34m40\u001b[0m)              │       \u001b[38;5;34m2,000,000\u001b[0m │\n",
       "├──────────────────────────────────────┼─────────────────────────────┼─────────────────┤\n",
       "│ conv1d (\u001b[38;5;33mConv1D\u001b[0m)                      │ (\u001b[38;5;45mNone\u001b[0m, \u001b[38;5;34m18\u001b[0m, \u001b[38;5;34m64\u001b[0m)              │           \u001b[38;5;34m7,744\u001b[0m │\n",
       "├──────────────────────────────────────┼─────────────────────────────┼─────────────────┤\n",
       "│ max_pooling1d (\u001b[38;5;33mMaxPooling1D\u001b[0m)         │ (\u001b[38;5;45mNone\u001b[0m, \u001b[38;5;34m9\u001b[0m, \u001b[38;5;34m64\u001b[0m)               │               \u001b[38;5;34m0\u001b[0m │\n",
       "├──────────────────────────────────────┼─────────────────────────────┼─────────────────┤\n",
       "│ lstm (\u001b[38;5;33mLSTM\u001b[0m)                          │ (\u001b[38;5;45mNone\u001b[0m, \u001b[38;5;34m100\u001b[0m)                 │          \u001b[38;5;34m66,000\u001b[0m │\n",
       "├──────────────────────────────────────┼─────────────────────────────┼─────────────────┤\n",
       "│ dropout (\u001b[38;5;33mDropout\u001b[0m)                    │ (\u001b[38;5;45mNone\u001b[0m, \u001b[38;5;34m100\u001b[0m)                 │               \u001b[38;5;34m0\u001b[0m │\n",
       "├──────────────────────────────────────┼─────────────────────────────┼─────────────────┤\n",
       "│ dense (\u001b[38;5;33mDense\u001b[0m)                        │ (\u001b[38;5;45mNone\u001b[0m, \u001b[38;5;34m30\u001b[0m)                  │           \u001b[38;5;34m3,030\u001b[0m │\n",
       "└──────────────────────────────────────┴─────────────────────────────┴─────────────────┘\n"
      ]
     },
     "metadata": {},
     "output_type": "display_data"
    },
    {
     "data": {
      "text/html": [
       "<pre style=\"white-space:pre;overflow-x:auto;line-height:normal;font-family:Menlo,'DejaVu Sans Mono',consolas,'Courier New',monospace\"><span style=\"font-weight: bold\"> Total params: </span><span style=\"color: #00af00; text-decoration-color: #00af00\">2,076,774</span> (7.92 MB)\n",
       "</pre>\n"
      ],
      "text/plain": [
       "\u001b[1m Total params: \u001b[0m\u001b[38;5;34m2,076,774\u001b[0m (7.92 MB)\n"
      ]
     },
     "metadata": {},
     "output_type": "display_data"
    },
    {
     "data": {
      "text/html": [
       "<pre style=\"white-space:pre;overflow-x:auto;line-height:normal;font-family:Menlo,'DejaVu Sans Mono',consolas,'Courier New',monospace\"><span style=\"font-weight: bold\"> Trainable params: </span><span style=\"color: #00af00; text-decoration-color: #00af00\">2,076,774</span> (7.92 MB)\n",
       "</pre>\n"
      ],
      "text/plain": [
       "\u001b[1m Trainable params: \u001b[0m\u001b[38;5;34m2,076,774\u001b[0m (7.92 MB)\n"
      ]
     },
     "metadata": {},
     "output_type": "display_data"
    },
    {
     "data": {
      "text/html": [
       "<pre style=\"white-space:pre;overflow-x:auto;line-height:normal;font-family:Menlo,'DejaVu Sans Mono',consolas,'Courier New',monospace\"><span style=\"font-weight: bold\"> Non-trainable params: </span><span style=\"color: #00af00; text-decoration-color: #00af00\">0</span> (0.00 B)\n",
       "</pre>\n"
      ],
      "text/plain": [
       "\u001b[1m Non-trainable params: \u001b[0m\u001b[38;5;34m0\u001b[0m (0.00 B)\n"
      ]
     },
     "metadata": {},
     "output_type": "display_data"
    },
    {
     "name": "stdout",
     "output_type": "stream",
     "text": [
      "None\n"
     ]
    }
   ],
   "source": [
    "num_classes = 30\n",
    "model = Sequential()\n",
    "model.add(Embedding(voc_size,embedding_vector_features,input_shape=(sent_length,)))\n",
    "model.add(Conv1D(filters=64, kernel_size=3, activation='relu'))\n",
    "model.add(MaxPooling1D(pool_size=2))\n",
    "model.add(LSTM(100))\n",
    "model.add(Dropout(0.3))\n",
    "model.add(Dense(num_classes,activation='softmax'))\n",
    "model.compile(loss='sparse_categorical_crossentropy',optimizer='adam',metrics=['accuracy'])\n",
    "print(model.summary())"
   ]
  },
  {
   "cell_type": "code",
   "execution_count": 22,
   "id": "c1c18e1d-b144-4fcd-a95e-cd56bc64dbdb",
   "metadata": {},
   "outputs": [],
   "source": [
    "df['Disease'] =  df['Disease'].apply(lambda x: x.lower())\n",
    "diseases = pd.get_dummies(df['Disease']).columns"
   ]
  },
  {
   "cell_type": "code",
   "execution_count": 23,
   "id": "008a7f05-60b9-4223-86cd-f5e7e176f7eb",
   "metadata": {},
   "outputs": [
    {
     "data": {
      "text/plain": [
       "(6,\n",
       " \"I can't stop sneezing and my nose is really runny. I'm also really cold and tired all the time, and I've been coughing a lot. My fever is really high too, like way above normal.\")"
      ]
     },
     "execution_count": 23,
     "metadata": {},
     "output_type": "execute_result"
    }
   ],
   "source": [
    "diseases.get_loc('common cold'), df[df['Disease'] == 'common cold'].iloc[0]['Symptoms']"
   ]
  },
  {
   "cell_type": "code",
   "execution_count": 24,
   "id": "cdc8dec6-15e3-44be-9f5e-cf4a27af453b",
   "metadata": {},
   "outputs": [],
   "source": [
    "y = df['Disease'].apply(lambda x: diseases.get_loc(x))"
   ]
  },
  {
   "cell_type": "code",
   "execution_count": 25,
   "id": "f9b54243-5deb-4b78-9d01-d33a6f55118a",
   "metadata": {},
   "outputs": [],
   "source": [
    "# saving titles of diseases to a text file for future use\n",
    "\n",
    "import json\n",
    "with open(f'../models/disease_classes_{version}.txt', 'w') as f:\n",
    "    f.write(json.dumps( pd.get_dummies(df['Disease']).columns.values.tolist()))"
   ]
  },
  {
   "cell_type": "code",
   "execution_count": 26,
   "id": "a5e52fbf-7737-4f66-83a2-c7eae5796a30",
   "metadata": {},
   "outputs": [
    {
     "data": {
      "text/plain": [
       "(1504, (1504,))"
      ]
     },
     "execution_count": 26,
     "metadata": {},
     "output_type": "execute_result"
    }
   ],
   "source": [
    "len(embedded_docs),y.shape"
   ]
  },
  {
   "cell_type": "code",
   "execution_count": 27,
   "id": "89aced94-2279-4f35-b9cb-f1db1708ab8b",
   "metadata": {},
   "outputs": [],
   "source": [
    "import numpy as np\n",
    "X_final=np.array(embedded_docs)\n",
    "y_final=np.array(y)"
   ]
  },
  {
   "cell_type": "code",
   "execution_count": 28,
   "id": "02a10824-fc5f-4b02-bedb-52427e6cf1ad",
   "metadata": {},
   "outputs": [
    {
     "data": {
      "text/plain": [
       "((1504, 20), (1504,))"
      ]
     },
     "execution_count": 28,
     "metadata": {},
     "output_type": "execute_result"
    }
   ],
   "source": [
    "# X_final = np.expand_dims(X_final, axis=-1)\n",
    "X_final.shape,y_final.shape"
   ]
  },
  {
   "cell_type": "code",
   "execution_count": 29,
   "id": "5b413913-af50-4b2a-b615-6142971438cf",
   "metadata": {},
   "outputs": [],
   "source": [
    "from sklearn.model_selection import train_test_split\n",
    "X_train, X_test, y_train, y_test = train_test_split(X_final, y_final, test_size=0.33, random_state=42)"
   ]
  },
  {
   "cell_type": "code",
   "execution_count": 30,
   "id": "a0acb326-4967-4620-98bc-d2d9951bb188",
   "metadata": {},
   "outputs": [],
   "source": [
    "# early_stopping means that the model will stop training if the validation loss does not decrease for 3 epochs\n",
    "from tensorflow.keras.callbacks import EarlyStopping\n",
    "early_stopping = EarlyStopping(\n",
    "    monitor='val_loss',  # Monitor validation loss\n",
    "    patience=3,          # Wait for 5 epochs without improvement \n",
    "    mode='min',          # Minimize validation loss\n",
    "    restore_best_weights=True  # Restore weights from the best epoch\n",
    ")"
   ]
  },
  {
   "cell_type": "code",
   "execution_count": 31,
   "id": "ae32d7ea-77dc-48eb-8d84-076ec6181e5b",
   "metadata": {},
   "outputs": [
    {
     "name": "stdout",
     "output_type": "stream",
     "text": [
      "Epoch 1/15\n",
      "\u001b[1m16/16\u001b[0m \u001b[32m━━━━━━━━━━━━━━━━━━━━\u001b[0m\u001b[37m\u001b[0m \u001b[1m2s\u001b[0m 22ms/step - accuracy: 0.0400 - loss: 3.3993 - val_accuracy: 0.0543 - val_loss: 3.3893\n",
      "Epoch 2/15\n",
      "\u001b[1m16/16\u001b[0m \u001b[32m━━━━━━━━━━━━━━━━━━━━\u001b[0m\u001b[37m\u001b[0m \u001b[1m0s\u001b[0m 11ms/step - accuracy: 0.0759 - loss: 3.3689 - val_accuracy: 0.0926 - val_loss: 3.3266\n",
      "Epoch 3/15\n",
      "\u001b[1m16/16\u001b[0m \u001b[32m━━━━━━━━━━━━━━━━━━━━\u001b[0m\u001b[37m\u001b[0m \u001b[1m0s\u001b[0m 13ms/step - accuracy: 0.1291 - loss: 3.2265 - val_accuracy: 0.1006 - val_loss: 3.0547\n",
      "Epoch 4/15\n",
      "\u001b[1m16/16\u001b[0m \u001b[32m━━━━━━━━━━━━━━━━━━━━\u001b[0m\u001b[37m\u001b[0m \u001b[1m0s\u001b[0m 12ms/step - accuracy: 0.1664 - loss: 2.8452 - val_accuracy: 0.2314 - val_loss: 2.7563\n",
      "Epoch 5/15\n",
      "\u001b[1m16/16\u001b[0m \u001b[32m━━━━━━━━━━━━━━━━━━━━\u001b[0m\u001b[37m\u001b[0m \u001b[1m0s\u001b[0m 13ms/step - accuracy: 0.3427 - loss: 2.3910 - val_accuracy: 0.3581 - val_loss: 2.2595\n",
      "Epoch 6/15\n",
      "\u001b[1m16/16\u001b[0m \u001b[32m━━━━━━━━━━━━━━━━━━━━\u001b[0m\u001b[37m\u001b[0m \u001b[1m0s\u001b[0m 12ms/step - accuracy: 0.5025 - loss: 1.8366 - val_accuracy: 0.5091 - val_loss: 1.7526\n",
      "Epoch 7/15\n",
      "\u001b[1m16/16\u001b[0m \u001b[32m━━━━━━━━━━━━━━━━━━━━\u001b[0m\u001b[37m\u001b[0m \u001b[1m0s\u001b[0m 12ms/step - accuracy: 0.6489 - loss: 1.2987 - val_accuracy: 0.6499 - val_loss: 1.3074\n",
      "Epoch 8/15\n",
      "\u001b[1m16/16\u001b[0m \u001b[32m━━━━━━━━━━━━━━━━━━━━\u001b[0m\u001b[37m\u001b[0m \u001b[1m0s\u001b[0m 12ms/step - accuracy: 0.7992 - loss: 0.8610 - val_accuracy: 0.7042 - val_loss: 1.0742\n",
      "Epoch 9/15\n",
      "\u001b[1m16/16\u001b[0m \u001b[32m━━━━━━━━━━━━━━━━━━━━\u001b[0m\u001b[37m\u001b[0m \u001b[1m0s\u001b[0m 11ms/step - accuracy: 0.8711 - loss: 0.5912 - val_accuracy: 0.7787 - val_loss: 0.8701\n",
      "Epoch 10/15\n",
      "\u001b[1m16/16\u001b[0m \u001b[32m━━━━━━━━━━━━━━━━━━━━\u001b[0m\u001b[37m\u001b[0m \u001b[1m0s\u001b[0m 12ms/step - accuracy: 0.9272 - loss: 0.4149 - val_accuracy: 0.8028 - val_loss: 0.7374\n",
      "Epoch 11/15\n",
      "\u001b[1m16/16\u001b[0m \u001b[32m━━━━━━━━━━━━━━━━━━━━\u001b[0m\u001b[37m\u001b[0m \u001b[1m0s\u001b[0m 12ms/step - accuracy: 0.9562 - loss: 0.3002 - val_accuracy: 0.8330 - val_loss: 0.6273\n",
      "Epoch 12/15\n",
      "\u001b[1m16/16\u001b[0m \u001b[32m━━━━━━━━━━━━━━━━━━━━\u001b[0m\u001b[37m\u001b[0m \u001b[1m0s\u001b[0m 12ms/step - accuracy: 0.9783 - loss: 0.1874 - val_accuracy: 0.8511 - val_loss: 0.5958\n",
      "Epoch 13/15\n",
      "\u001b[1m16/16\u001b[0m \u001b[32m━━━━━━━━━━━━━━━━━━━━\u001b[0m\u001b[37m\u001b[0m \u001b[1m0s\u001b[0m 12ms/step - accuracy: 0.9900 - loss: 0.1446 - val_accuracy: 0.8451 - val_loss: 0.5747\n",
      "Epoch 14/15\n",
      "\u001b[1m16/16\u001b[0m \u001b[32m━━━━━━━━━━━━━━━━━━━━\u001b[0m\u001b[37m\u001b[0m \u001b[1m0s\u001b[0m 13ms/step - accuracy: 0.9974 - loss: 0.1109 - val_accuracy: 0.8652 - val_loss: 0.5356\n",
      "Epoch 15/15\n",
      "\u001b[1m16/16\u001b[0m \u001b[32m━━━━━━━━━━━━━━━━━━━━\u001b[0m\u001b[37m\u001b[0m \u001b[1m0s\u001b[0m 10ms/step - accuracy: 0.9970 - loss: 0.0883 - val_accuracy: 0.8431 - val_loss: 0.5563\n"
     ]
    }
   ],
   "source": [
    "##Training\n",
    "history = model.fit(X_train,y_train,validation_data=(X_test,y_test),epochs=15,batch_size=64,callbacks=[early_stopping])"
   ]
  },
  {
   "cell_type": "code",
   "execution_count": 32,
   "id": "bfbca909-f530-41eb-9788-611aaa91e28a",
   "metadata": {},
   "outputs": [
    {
     "data": {
      "text/plain": [
       "[<matplotlib.lines.Line2D at 0x1cf1c5a6ba0>]"
      ]
     },
     "execution_count": 32,
     "metadata": {},
     "output_type": "execute_result"
    },
    {
     "data": {
      "image/png": "[encoded data removed]",
      "text/plain": [
       "<Figure size 640x480 with 1 Axes>"
      ]
     },
     "metadata": {},
     "output_type": "display_data"
    }
   ],
   "source": [
    "import matplotlib.pyplot as plt\n",
    "# plot line graph of history of accuracy and val_accuracy\n",
    "plt.plot(history.history['accuracy'])\n",
    "plt.plot(history.history['val_accuracy'])"
   ]
  },
  {
   "cell_type": "code",
   "execution_count": 33,
   "id": "d8f5d27f-abae-446c-85da-c030392c0a3e",
   "metadata": {},
   "outputs": [
    {
     "name": "stdout",
     "output_type": "stream",
     "text": [
      "\u001b[1m16/16\u001b[0m \u001b[32m━━━━━━━━━━━━━━━━━━━━\u001b[0m\u001b[37m\u001b[0m \u001b[1m0s\u001b[0m 7ms/step\n"
     ]
    }
   ],
   "source": [
    "y_pred=model.predict(X_test)"
   ]
  },
  {
   "cell_type": "code",
   "execution_count": 34,
   "id": "e00dd7c4-e9d3-4441-9251-8af51122290b",
   "metadata": {},
   "outputs": [],
   "source": [
    "# y_pred[0].argmax()\n",
    "# y_test[0].argmax()\n",
    "\n",
    "# y_test_t = [i.argmax() for i in y_test]\n",
    "y_pred_t = [i.argmax() for i in y_pred]"
   ]
  },
  {
   "cell_type": "code",
   "execution_count": 35,
   "id": "f33829cd-efca-457d-bf56-ca743ac153c4",
   "metadata": {},
   "outputs": [
    {
     "data": {
      "text/plain": [
       "0.8651911468812877"
      ]
     },
     "execution_count": 35,
     "metadata": {},
     "output_type": "execute_result"
    }
   ],
   "source": [
    "from sklearn.metrics import accuracy_score\n",
    "accuracy_score(y_test,y_pred_t)"
   ]
  },
  {
   "cell_type": "code",
   "execution_count": 36,
   "id": "40061d43-bdb6-4868-94aa-d70cc1e1aa90",
   "metadata": {},
   "outputs": [],
   "source": [
    "# save model weights\n",
    "model.save_weights(f'../models/model_{version}.weights.h5')"
   ]
  },
  {
   "cell_type": "code",
   "execution_count": null,
   "id": "8c37cd66-cdd6-402f-81b1-7c574e15b3ce",
   "metadata": {},
   "outputs": [],
   "source": []
  }
 ],
 "metadata": {
  "kernelspec": {
   "display_name": "Python 3 (ipykernel)",
   "language": "python",
   "name": "python3"
  },
  "language_info": {
   "codemirror_mode": {
    "name": "ipython",
    "version": 3
   },
   "file_extension": ".py",
   "mimetype": "text/x-python",
   "name": "python",
   "nbconvert_exporter": "python",
   "pygments_lexer": "ipython3",
   "version": "3.12.3"
  }
 },
 "nbformat": 4,
 "nbformat_minor": 5
}
