{
 "cells": [
  {
   "cell_type": "code",
   "execution_count": 22,
   "id": "9ae64558-1550-4e3a-8240-8a0f31210012",
   "metadata": {},
   "outputs": [],
   "source": [
    "from tensorflow.keras.layers import Embedding\n",
    "from tensorflow.keras.preprocessing.sequence import pad_sequences\n",
    "from tensorflow.keras.models import Sequential\n",
    "from tensorflow.keras.preprocessing.text import one_hot\n",
    "from tensorflow.keras.layers import LSTM\n",
    "from tensorflow.keras.layers import Dense\n",
    "from tensorflow.keras.layers import Bidirectional\n",
    "from tensorflow.keras.layers import Dropout\n",
    "from keras.layers import Conv1D, MaxPooling1D\n",
    "import tensorflow as tf"
   ]
  },
  {
   "cell_type": "code",
   "execution_count": 23,
   "id": "e58d4691-3df4-429f-b0bf-7bda01d4f385",
   "metadata": {},
   "outputs": [],
   "source": [
    "version = \"cnn_v1\"\n",
    "\n",
    "model_path = f\"../models/model_{version}.weights.h5\"\n",
    "tokenizer_path = f\"../models/tokenizer_{version}.pkl\"\n",
    "class_path = f\"../models/disease_classes_{version}.txt\""
   ]
  },
  {
   "cell_type": "code",
   "execution_count": 24,
   "id": "8ec1a2d4-a87f-4cfb-b41c-6a142ea0e36e",
   "metadata": {},
   "outputs": [
    {
     "data": {
      "text/html": [
       "<pre style=\"white-space:pre;overflow-x:auto;line-height:normal;font-family:Menlo,'DejaVu Sans Mono',consolas,'Courier New',monospace\"><span style=\"font-weight: bold\">Model: \"sequential_2\"</span>\n",
       "</pre>\n"
      ],
      "text/plain": [
       "\u001b[1mModel: \"sequential_2\"\u001b[0m\n"
      ]
     },
     "metadata": {},
     "output_type": "display_data"
    },
    {
     "data": {
      "text/html": [
       "<pre style=\"white-space:pre;overflow-x:auto;line-height:normal;font-family:Menlo,'DejaVu Sans Mono',consolas,'Courier New',monospace\">┏━━━━━━━━━━━━━━━━━━━━━━━━━━━━━━━━━━━━━━┳━━━━━━━━━━━━━━━━━━━━━━━━━━━━━┳━━━━━━━━━━━━━━━━━┓\n",
       "┃<span style=\"font-weight: bold\"> Layer (type)                         </span>┃<span style=\"font-weight: bold\"> Output Shape                </span>┃<span style=\"font-weight: bold\">         Param # </span>┃\n",
       "┡━━━━━━━━━━━━━━━━━━━━━━━━━━━━━━━━━━━━━━╇━━━━━━━━━━━━━━━━━━━━━━━━━━━━━╇━━━━━━━━━━━━━━━━━┩\n",
       "│ embedding_2 (<span style=\"color: #0087ff; text-decoration-color: #0087ff\">Embedding</span>)              │ (<span style=\"color: #00d7ff; text-decoration-color: #00d7ff\">None</span>, <span style=\"color: #00af00; text-decoration-color: #00af00\">20</span>, <span style=\"color: #00af00; text-decoration-color: #00af00\">40</span>)              │       <span style=\"color: #00af00; text-decoration-color: #00af00\">2,000,000</span> │\n",
       "├──────────────────────────────────────┼─────────────────────────────┼─────────────────┤\n",
       "│ conv1d_2 (<span style=\"color: #0087ff; text-decoration-color: #0087ff\">Conv1D</span>)                    │ (<span style=\"color: #00d7ff; text-decoration-color: #00d7ff\">None</span>, <span style=\"color: #00af00; text-decoration-color: #00af00\">18</span>, <span style=\"color: #00af00; text-decoration-color: #00af00\">64</span>)              │           <span style=\"color: #00af00; text-decoration-color: #00af00\">7,744</span> │\n",
       "├──────────────────────────────────────┼─────────────────────────────┼─────────────────┤\n",
       "│ max_pooling1d_2 (<span style=\"color: #0087ff; text-decoration-color: #0087ff\">MaxPooling1D</span>)       │ (<span style=\"color: #00d7ff; text-decoration-color: #00d7ff\">None</span>, <span style=\"color: #00af00; text-decoration-color: #00af00\">9</span>, <span style=\"color: #00af00; text-decoration-color: #00af00\">64</span>)               │               <span style=\"color: #00af00; text-decoration-color: #00af00\">0</span> │\n",
       "├──────────────────────────────────────┼─────────────────────────────┼─────────────────┤\n",
       "│ lstm_2 (<span style=\"color: #0087ff; text-decoration-color: #0087ff\">LSTM</span>)                        │ (<span style=\"color: #00d7ff; text-decoration-color: #00d7ff\">None</span>, <span style=\"color: #00af00; text-decoration-color: #00af00\">100</span>)                 │          <span style=\"color: #00af00; text-decoration-color: #00af00\">66,000</span> │\n",
       "├──────────────────────────────────────┼─────────────────────────────┼─────────────────┤\n",
       "│ dropout_2 (<span style=\"color: #0087ff; text-decoration-color: #0087ff\">Dropout</span>)                  │ (<span style=\"color: #00d7ff; text-decoration-color: #00d7ff\">None</span>, <span style=\"color: #00af00; text-decoration-color: #00af00\">100</span>)                 │               <span style=\"color: #00af00; text-decoration-color: #00af00\">0</span> │\n",
       "├──────────────────────────────────────┼─────────────────────────────┼─────────────────┤\n",
       "│ dense_2 (<span style=\"color: #0087ff; text-decoration-color: #0087ff\">Dense</span>)                      │ (<span style=\"color: #00d7ff; text-decoration-color: #00d7ff\">None</span>, <span style=\"color: #00af00; text-decoration-color: #00af00\">30</span>)                  │           <span style=\"color: #00af00; text-decoration-color: #00af00\">3,030</span> │\n",
       "└──────────────────────────────────────┴─────────────────────────────┴─────────────────┘\n",
       "</pre>\n"
      ],
      "text/plain": [
       "┏━━━━━━━━━━━━━━━━━━━━━━━━━━━━━━━━━━━━━━┳━━━━━━━━━━━━━━━━━━━━━━━━━━━━━┳━━━━━━━━━━━━━━━━━┓\n",
       "┃\u001b[1m \u001b[0m\u001b[1mLayer (type)                        \u001b[0m\u001b[1m \u001b[0m┃\u001b[1m \u001b[0m\u001b[1mOutput Shape               \u001b[0m\u001b[1m \u001b[0m┃\u001b[1m \u001b[0m\u001b[1m        Param #\u001b[0m\u001b[1m \u001b[0m┃\n",
       "┡━━━━━━━━━━━━━━━━━━━━━━━━━━━━━━━━━━━━━━╇━━━━━━━━━━━━━━━━━━━━━━━━━━━━━╇━━━━━━━━━━━━━━━━━┩\n",
       "│ embedding_2 (\u001b[38;5;33mEmbedding\u001b[0m)              │ (\u001b[38;5;45mNone\u001b[0m, \u001b[38;5;34m20\u001b[0m, \u001b[38;5;34m40\u001b[0m)              │       \u001b[38;5;34m2,000,000\u001b[0m │\n",
       "├──────────────────────────────────────┼─────────────────────────────┼─────────────────┤\n",
       "│ conv1d_2 (\u001b[38;5;33mConv1D\u001b[0m)                    │ (\u001b[38;5;45mNone\u001b[0m, \u001b[38;5;34m18\u001b[0m, \u001b[38;5;34m64\u001b[0m)              │           \u001b[38;5;34m7,744\u001b[0m │\n",
       "├──────────────────────────────────────┼─────────────────────────────┼─────────────────┤\n",
       "│ max_pooling1d_2 (\u001b[38;5;33mMaxPooling1D\u001b[0m)       │ (\u001b[38;5;45mNone\u001b[0m, \u001b[38;5;34m9\u001b[0m, \u001b[38;5;34m64\u001b[0m)               │               \u001b[38;5;34m0\u001b[0m │\n",
       "├──────────────────────────────────────┼─────────────────────────────┼─────────────────┤\n",
       "│ lstm_2 (\u001b[38;5;33mLSTM\u001b[0m)                        │ (\u001b[38;5;45mNone\u001b[0m, \u001b[38;5;34m100\u001b[0m)                 │          \u001b[38;5;34m66,000\u001b[0m │\n",
       "├──────────────────────────────────────┼─────────────────────────────┼─────────────────┤\n",
       "│ dropout_2 (\u001b[38;5;33mDropout\u001b[0m)                  │ (\u001b[38;5;45mNone\u001b[0m, \u001b[38;5;34m100\u001b[0m)                 │               \u001b[38;5;34m0\u001b[0m │\n",
       "├──────────────────────────────────────┼─────────────────────────────┼─────────────────┤\n",
       "│ dense_2 (\u001b[38;5;33mDense\u001b[0m)                      │ (\u001b[38;5;45mNone\u001b[0m, \u001b[38;5;34m30\u001b[0m)                  │           \u001b[38;5;34m3,030\u001b[0m │\n",
       "└──────────────────────────────────────┴─────────────────────────────┴─────────────────┘\n"
      ]
     },
     "metadata": {},
     "output_type": "display_data"
    },
    {
     "data": {
      "text/html": [
       "<pre style=\"white-space:pre;overflow-x:auto;line-height:normal;font-family:Menlo,'DejaVu Sans Mono',consolas,'Courier New',monospace\"><span style=\"font-weight: bold\"> Total params: </span><span style=\"color: #00af00; text-decoration-color: #00af00\">2,076,774</span> (7.92 MB)\n",
       "</pre>\n"
      ],
      "text/plain": [
       "\u001b[1m Total params: \u001b[0m\u001b[38;5;34m2,076,774\u001b[0m (7.92 MB)\n"
      ]
     },
     "metadata": {},
     "output_type": "display_data"
    },
    {
     "data": {
      "text/html": [
       "<pre style=\"white-space:pre;overflow-x:auto;line-height:normal;font-family:Menlo,'DejaVu Sans Mono',consolas,'Courier New',monospace\"><span style=\"font-weight: bold\"> Trainable params: </span><span style=\"color: #00af00; text-decoration-color: #00af00\">2,076,774</span> (7.92 MB)\n",
       "</pre>\n"
      ],
      "text/plain": [
       "\u001b[1m Trainable params: \u001b[0m\u001b[38;5;34m2,076,774\u001b[0m (7.92 MB)\n"
      ]
     },
     "metadata": {},
     "output_type": "display_data"
    },
    {
     "data": {
      "text/html": [
       "<pre style=\"white-space:pre;overflow-x:auto;line-height:normal;font-family:Menlo,'DejaVu Sans Mono',consolas,'Courier New',monospace\"><span style=\"font-weight: bold\"> Non-trainable params: </span><span style=\"color: #00af00; text-decoration-color: #00af00\">0</span> (0.00 B)\n",
       "</pre>\n"
      ],
      "text/plain": [
       "\u001b[1m Non-trainable params: \u001b[0m\u001b[38;5;34m0\u001b[0m (0.00 B)\n"
      ]
     },
     "metadata": {},
     "output_type": "display_data"
    },
    {
     "name": "stdout",
     "output_type": "stream",
     "text": [
      "None\n"
     ]
    }
   ],
   "source": [
    "## Creating the model_loaded based on training model_loaded architecture\n",
    "sent_length=20\n",
    "voc_size = 50000\n",
    "embedding_vector_features=40\n",
    "model_loaded = None\n",
    "num_classes = 30\n",
    "\n",
    "# # Define CNN-LSTM model_loaded\n",
    "model_loaded = Sequential()\n",
    "model_loaded.add(Embedding(voc_size,embedding_vector_features,input_shape=(sent_length,)))\n",
    "model_loaded.add(Conv1D(filters=64, kernel_size=3, activation='relu'))\n",
    "model_loaded.add(MaxPooling1D(pool_size=2))\n",
    "model_loaded.add(LSTM(100))\n",
    "model_loaded.add(Dropout(0.3))\n",
    "model_loaded.add(Dense(num_classes,activation='softmax'))\n",
    "model_loaded.compile(loss='sparse_categorical_crossentropy',optimizer='adam',metrics=['accuracy'])\n",
    "\n",
    "\n",
    "print(model_loaded.summary())"
   ]
  },
  {
   "cell_type": "code",
   "execution_count": 25,
   "id": "fa72dd97-020f-494e-9416-67c42713ed1a",
   "metadata": {},
   "outputs": [],
   "source": [
    "# loading saved model weights\n",
    "model_loaded.load_weights(model_path)"
   ]
  },
  {
   "cell_type": "code",
   "execution_count": 26,
   "id": "0ca98cf0-1c4e-4f36-9d29-f044ae5a411e",
   "metadata": {},
   "outputs": [
    {
     "name": "stderr",
     "output_type": "stream",
     "text": [
      "[nltk_data] Downloading package stopwords to\n",
      "[nltk_data]     C:\\Users\\aller\\AppData\\Roaming\\nltk_data...\n",
      "[nltk_data]   Package stopwords is already up-to-date!\n",
      "[nltk_data] Downloading package stopwords to\n",
      "[nltk_data]     C:\\Users\\aller\\AppData\\Roaming\\nltk_data...\n",
      "[nltk_data]   Package stopwords is already up-to-date!\n",
      "[nltk_data] Downloading package wordnet to\n",
      "[nltk_data]     C:\\Users\\aller\\AppData\\Roaming\\nltk_data...\n",
      "[nltk_data]   Package wordnet is already up-to-date!\n",
      "[nltk_data] Downloading package averaged_perceptron_tagger to\n",
      "[nltk_data]     C:\\Users\\aller\\AppData\\Roaming\\nltk_data...\n",
      "[nltk_data]   Package averaged_perceptron_tagger is already up-to-\n",
      "[nltk_data]       date!\n"
     ]
    }
   ],
   "source": [
    "# Preprocessing function\n",
    "import nltk\n",
    "import re\n",
    "import pickle\n",
    "from nltk.stem.porter import PorterStemmer\n",
    "from nltk.corpus import stopwords\n",
    "from word_process import WordProcess\n",
    "\n",
    "nltk.download('stopwords')\n",
    "\n",
    "tokenizer = pickle.load(open(tokenizer_path, 'rb'))\n",
    "stop_words = stopwords.words('english')\n",
    "stemmer = PorterStemmer()\n",
    "wp = WordProcess()\n",
    "\n",
    "\n",
    "\n",
    "def preprocess_text(text):\n",
    "    \"\"\"Preprocesses a single text sample for disease prediction.\"\"\"\n",
    "    # voc_size = 5000\n",
    "    sent_length = 20\n",
    "    processed_text = wp.process_sent2sent(text)\n",
    "\n",
    "    # One-hot encoding and padding\n",
    "    # print(processed_text)\n",
    "    onehot_vector = tokenizer.texts_to_sequences([processed_text])\n",
    "    # print('vector',onehot_vector)\n",
    "    padded_vector = pad_sequences(onehot_vector, padding='pre', maxlen=sent_length)\n",
    "\n",
    "    return padded_vector[0].tolist()"
   ]
  },
  {
   "cell_type": "code",
   "execution_count": 27,
   "id": "c3a2184f-5b91-45ba-9dc0-44d2626a8ee6",
   "metadata": {},
   "outputs": [],
   "source": [
    "import numpy as np"
   ]
  },
  {
   "cell_type": "code",
   "execution_count": 28,
   "id": "5450e5ca-f798-4a93-80ff-0bd5b0b383d1",
   "metadata": {},
   "outputs": [
    {
     "data": {
      "text/plain": [
       "(['acne',\n",
       "  'allergy',\n",
       "  'arthritis',\n",
       "  'bronchial asthma',\n",
       "  'cervical spondylosis',\n",
       "  'chicken pox',\n",
       "  'common cold',\n",
       "  'dengue',\n",
       "  'diabetes',\n",
       "  'dimorphic hemorrhoids',\n",
       "  'drug reaction',\n",
       "  'flu',\n",
       "  'fungal infection',\n",
       "  'gastroesophageal reflux disease',\n",
       "  'hiv/aids',\n",
       "  'hypertension',\n",
       "  'impetigo',\n",
       "  'irritable bowel syndrome',\n",
       "  'jaundice',\n",
       "  'malaria',\n",
       "  'migraine',\n",
       "  'peptic ulcer disease',\n",
       "  'pneumonia',\n",
       "  'psoriasis',\n",
       "  'strep throat',\n",
       "  'typhoid',\n",
       "  'urinary tract infection',\n",
       "  'varicose veins',\n",
       "  'vitamin d deficiency',\n",
       "  'yeast infection'],\n",
       " 30)"
      ]
     },
     "execution_count": 28,
     "metadata": {},
     "output_type": "execute_result"
    }
   ],
   "source": [
    "import json \n",
    "\n",
    "with open(class_path) as f:\n",
    "    disease_classes = json.load(f)\n",
    "disease_classes, len(disease_classes)"
   ]
  },
  {
   "cell_type": "code",
   "execution_count": 29,
   "id": "ea251ad9-a245-4154-a93e-06bca8b1976b",
   "metadata": {},
   "outputs": [],
   "source": [
    "test_cases = [\n",
    "\"I have been sneezing frequently, accompanied by a mild headache, runny nose, and a general feeling of being unwell.\",\n",
    "\"Experiencing a low-grade fever with chills, nasal congestion, and a scratchy throat.\",\n",
    "\"Mild body aches with a runny nose, a few sneezes, and feeling slightly fatigued.\",\n",
    "\"Congested nose with a sore throat, slight cough, and sneezing fits.\",\n",
    "\"I am experiencing itching and irritation in the vaginal area, along with a white, clumpy discharge that resembles cottage cheese.\",\n",
    "\"There's a burning sensation during urination and redness and swelling of the vulva.\",\n",
    "\"Feeling soreness and experiencing painful intercourse, accompanied by a thick, odorless, white vaginal discharge.\",\n",
    "\"Persistent itching and a thick white discharge, with slight redness around the external genitalia.\",\n",
    "\"Feeling tired all the time and my bones ache, especially in the joints and back. There's also muscle weakness.\",\n",
    "\"Noticing more hair falling out, general fatigue, and aching bones. I've been indoors most of the time.\",\n",
    "\"Experiencing bone pain and muscle weakness, feeling depressed more frequently.\",\n",
    "\"My doctor mentioned bone softening, and I feel persistently low energy and down in mood.\",\n",
    "\"My stomach cramps after eating and I frequently have diarrhea or constipation, feeling bloated.\",\n",
    "\"Experiencing abdominal pain, bloating, and an inconsistent stool pattern, swinging between diarrhea and constipation.\",\n",
    "\"Frequent bloating and gas with episodes of constipation followed by sudden diarrhea.\",\n",
    "\"Abdominal discomfort, altered bowel habits, with bouts of diarrhea and periods of constipation, including bloating.\"\n",
    "]"
   ]
  },
  {
   "cell_type": "code",
   "execution_count": 30,
   "id": "43338a45-77fd-47a3-b780-e052d26431c3",
   "metadata": {},
   "outputs": [
    {
     "name": "stdout",
     "output_type": "stream",
     "text": [
      "I have been sneezing frequently, accompanied by a mild headache, runny nose, and a general feeling of being unwell.\n",
      "allergy\n",
      "Experiencing a low-grade fever with chills, nasal congestion, and a scratchy throat.\n",
      "flu\n",
      "Mild body aches with a runny nose, a few sneezes, and feeling slightly fatigued.\n",
      "flu\n",
      "Congested nose with a sore throat, slight cough, and sneezing fits.\n",
      "allergy\n",
      "I am experiencing itching and irritation in the vaginal area, along with a white, clumpy discharge that resembles cottage cheese.\n",
      "yeast infection\n",
      "There's a burning sensation during urination and redness and swelling of the vulva.\n",
      "migraine\n",
      "Feeling soreness and experiencing painful intercourse, accompanied by a thick, odorless, white vaginal discharge.\n",
      "yeast infection\n",
      "Persistent itching and a thick white discharge, with slight redness around the external genitalia.\n",
      "yeast infection\n",
      "Feeling tired all the time and my bones ache, especially in the joints and back. There's also muscle weakness.\n",
      "vitamin d deficiency\n",
      "Noticing more hair falling out, general fatigue, and aching bones. I've been indoors most of the time.\n",
      "vitamin d deficiency\n",
      "Experiencing bone pain and muscle weakness, feeling depressed more frequently.\n",
      "vitamin d deficiency\n",
      "My doctor mentioned bone softening, and I feel persistently low energy and down in mood.\n",
      "vitamin d deficiency\n",
      "My stomach cramps after eating and I frequently have diarrhea or constipation, feeling bloated.\n",
      "irritable bowel syndrome\n",
      "Experiencing abdominal pain, bloating, and an inconsistent stool pattern, swinging between diarrhea and constipation.\n",
      "irritable bowel syndrome\n",
      "Frequent bloating and gas with episodes of constipation followed by sudden diarrhea.\n",
      "vitamin d deficiency\n",
      "Abdominal discomfort, altered bowel habits, with bouts of diarrhea and periods of constipation, including bloating.\n",
      "peptic ulcer disease\n"
     ]
    }
   ],
   "source": [
    "for test in test_cases:\n",
    "    print(test)\n",
    "    ind = model_loaded.predict(np.array([preprocess_text(test)]),verbose=0).argmax()\n",
    "    print( disease_classes[ind])"
   ]
  },
  {
   "cell_type": "code",
   "execution_count": null,
   "id": "e277ccc5-3af7-4bd2-a88a-375eaa774615",
   "metadata": {},
   "outputs": [],
   "source": []
  }
 ],
 "metadata": {
  "kernelspec": {
   "display_name": "Python 3 (ipykernel)",
   "language": "python",
   "name": "python3"
  },
  "language_info": {
   "codemirror_mode": {
    "name": "ipython",
    "version": 3
   },
   "file_extension": ".py",
   "mimetype": "text/x-python",
   "name": "python",
   "nbconvert_exporter": "python",
   "pygments_lexer": "ipython3",
   "version": "3.12.3"
  }
 },
 "nbformat": 4,
 "nbformat_minor": 5
}
